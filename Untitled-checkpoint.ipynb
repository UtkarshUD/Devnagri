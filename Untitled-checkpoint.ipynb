{
 "cells": [
  {
   "cell_type": "code",
   "execution_count": 1,
   "metadata": {},
   "outputs": [
    {
     "name": "stderr",
     "output_type": "stream",
     "text": [
      "Using TensorFlow backend.\n"
     ]
    }
   ],
   "source": [
    "import cv2\n",
    "import numpy as np\n",
    "from keras.models import load_model\n",
    "from collections import deque"
   ]
  },
  {
   "cell_type": "code",
   "execution_count": 2,
   "metadata": {},
   "outputs": [
    {
     "name": "stdout",
     "output_type": "stream",
     "text": [
      "4.1.2\n",
      "C:\\Users\\KIIT\\Anaconda3\\lib\\site-packages\\cv2\\data\\\n",
      ".... <keras.engine.sequential.Sequential object at 0x000002B891CD9C18> ....\n"
     ]
    }
   ],
   "source": [
    "print(cv2.__version__)\n",
    "print(cv2.data.haarcascades)\n",
    "\n",
    "model1=load_model(\"devnagari.h5\")\n",
    "print(\"....\",model1,\"....\")"
   ]
  },
  {
   "cell_type": "code",
   "execution_count": 3,
   "metadata": {},
   "outputs": [],
   "source": [
    "letter_count={0:'CHECK',1:'01-KAA',2:'02-KHAA',3:'03-GAA',4:'04-GHAA',5:'05-KNA',6:'06-CHA',7:'07-CHHA',8:'08-JAA',9:'09-JHHA'\n",
    "              \n",
    "              ,10:'10-IINYAA',11:'11-TAA(TAMATAR)',12:'12-THAA',13:'13-DAA',14:'14-DHHA',15:'15-ADNA',16:'16-TAA(TABLA)',17:'17-THA',18:'18-DA'\n",
    "              \n",
    "              ,19:'19-DHA',20:'20-NAA',21:'21-PAA',22:'22-PHA',23:'23-BAA',24:'24-BHA',25:'25-MAA',26:'26-YWA',27:'27-RAA',28:'28-LAA'\n",
    "              \n",
    "              ,29:'29-WAA',30:'30-SHA',31:'31-PETCHIRYAKHA',32:'32-SAA',33:'33-HAA',34:'34-CHYAA',35:'35-TRAA',36:'36-GYAA',37:'37-CHECK'\n",
    "            }"
   ]
  },
  {
   "cell_type": "code",
   "execution_count": null,
   "metadata": {},
   "outputs": [],
   "source": [
    "def keras_predict (model,image):\n",
    "    processed=keras_process_image(image)\n",
    "    print(\"PROCESSED:\",str(processed.shape))\n",
    "    pred_prob=model.predict(processed)[0]\n",
    "    pred_class=list(pred_prob).index(max(pred_prob))\n",
    "    return max(pred_prob),pred_class\n",
    "\n",
    "def keras_process_image(img):\n",
    "    image_x=32\n",
    "    image_y=32\n",
    "    img=cv2.resize(img,(image_x,image_y))\n",
    "    img=np.array(img,dtype=np.float32)\n",
    "    img=np.reshape(img,(-1,image_x,image_y,1))\n",
    "    return img\n",
    "               "
   ]
  },
  {
   "cell_type": "code",
   "execution_count": null,
   "metadata": {},
   "outputs": [
    {
     "name": "stdout",
     "output_type": "stream",
     "text": [
      "181007.5\n",
      "PROCESSED: (1, 32, 32, 1)\n",
      "23 1.0\n"
     ]
    }
   ],
   "source": [
    "cap=cv2.VideoCapture(0)\n",
    "Lower_Blue=np.array([100,50,50])\n",
    "Upper_Blue=np.array([130,225,255])\n",
    "pred_class=0\n",
    "pts=deque(maxlen=512)\n",
    "blackboard=np.zeros((480,640,3),dtype=np.uint8)\n",
    "digit=np.zeros((300,300,3),dtype=np.uint8)\n",
    "while(cap.isOpened()):\n",
    "    ret,img=cap.read()\n",
    "    img=cv2.flip(img,1)\n",
    "    imgHSV=cv2.cvtColor(img,cv2.COLOR_BGR2HSV)\n",
    "    mask=cv2.inRange(imgHSV,Lower_Blue,Upper_Blue)\n",
    "    blur=cv2.medianBlur(mask,15)\n",
    "    blur=cv2.GaussianBlur(blur,(5,5),0)\n",
    "    thresh=cv2.threshold(blur,0,255,cv2.THRESH_BINARY+cv2.THRESH_OTSU)[1]\n",
    "    cnts = cv2.findContours(thresh.copy(), cv2.RETR_TREE, cv2.CHAIN_APPROX_NONE)[0]\n",
    "    center=None\n",
    "    if len(cnts)>=1:\n",
    "        contour = max(cnts,key=cv2.contourArea)\n",
    "        if(cv2.contourArea(contour)>250):\n",
    "            ((x,y),radius)=cv2.minEnclosingCircle(contour)\n",
    "            cv2.circle(img,(int(x),int(y)),int(radius),(0,255,255),2)\n",
    "            cv2.circle(img,center,5,(0,0,255),2)\n",
    "            M=cv2.moments(contour)\n",
    "            center=(int(M['m10']/M['m00']),int(M['m01']/M['m00']))\n",
    "            pts.appendleft(center)\n",
    "            for i in range(1,len(pts)):\n",
    "                if pts[i-1] is None or pts[i] is None:\n",
    "                    continue\n",
    "                cv2.line(blackboard,pts[i-1],pts[i],(255,255,255),10)\n",
    "                cv2.line(img,pts[i-1],pts[i],(0,0,255),3)\n",
    "    elif len(cnts)==0:\n",
    "        if len(pts)!=[]:\n",
    "            blackboard_gray=cv2.cvtColor(blackboard,cv2.COLOR_BGR2GRAY)\n",
    "            blur1=cv2.medianBlur(blackboard_gray,15)\n",
    "            blur1=cv2.GaussianBlur(blur1,(5,5),0)\n",
    "            thresh1=cv2.threshold(blur1,0,255,cv2.THRESH_BINARY+cv2.THRESH_OTSU)[1]\n",
    "            blackboard_cnts=cv2.findContours(thresh1.copy(),cv2.RETR_TREE,cv2.CHAIN_APPROX_NONE)[0]\n",
    "            if len(blackboard_cnts)>=1:\n",
    "                cnt=max(blackboard_cnts,key=cv2.contourArea)\n",
    "                print(cv2.contourArea(cnt))\n",
    "                if cv2.contourArea(cnt)>250:\n",
    "                    x,y,w,h=cv2.boundingRect(cnt)\n",
    "                    digit=blackboard_gray[y:y+h,x:x+w]\n",
    "                    pred_probab,pred_class=keras_predict(model1,digit)\n",
    "                    print(pred_class,pred_probab)\n",
    "        pts=deque(maxlen=512)\n",
    "        blackboard=np.zeros((480,640,3),dtype=np.uint8)\n",
    "    cv2.putText(img,\"CONV NETWORK: \" +str(letter_count[pred_class]),(10,470),\n",
    "               cv2.FONT_HERSHEY_SIMPLEX,0.7,(0,0,255),2)\n",
    "    cv2.imshow(\"Frame\",img)\n",
    "    cv2.imshow(\"Contours\",thresh)\n",
    "    k=cv2.waitKey(3)\n",
    "    if k==27:\n",
    "        cap.release\n",
    "        break\n"
   ]
  },
  {
   "cell_type": "code",
   "execution_count": null,
   "metadata": {},
   "outputs": [],
   "source": []
  }
 ],
 "metadata": {
  "kernelspec": {
   "display_name": "Python 3",
   "language": "python",
   "name": "python3"
  },
  "language_info": {
   "codemirror_mode": {
    "name": "ipython",
    "version": 3
   },
   "file_extension": ".py",
   "mimetype": "text/x-python",
   "name": "python",
   "nbconvert_exporter": "python",
   "pygments_lexer": "ipython3",
   "version": "3.7.3"
  }
 },
 "nbformat": 4,
 "nbformat_minor": 2
}
